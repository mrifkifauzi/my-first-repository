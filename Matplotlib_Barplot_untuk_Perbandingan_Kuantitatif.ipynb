{
  "nbformat": 4,
  "nbformat_minor": 0,
  "metadata": {
    "colab": {
      "name": "Matplotlib: Barplot untuk Perbandingan Kuantitatif.ipynb",
      "provenance": [],
      "collapsed_sections": []
    },
    "kernelspec": {
      "name": "python3",
      "display_name": "Python 3"
    },
    "language_info": {
      "name": "python"
    }
  },
  "cells": [
    {
      "cell_type": "markdown",
      "metadata": {
        "id": "mbnDKVHmCj6t"
      },
      "source": [
        "Dataset:  <a href=\"https://blog.sanbercode.com/wp-content/uploads/2020/05/vgsales.csv\">vgsales.csv</a>"
      ]
    },
    {
      "cell_type": "markdown",
      "metadata": {
        "id": "9ncozyvWCznr"
      },
      "source": [
        "**Persiapan Data**"
      ]
    },
    {
      "cell_type": "code",
      "metadata": {
        "colab": {
          "base_uri": "https://localhost:8080/",
          "height": 205
        },
        "id": "IKPEy0HkCYy5",
        "outputId": "f9f04e51-43fb-4541-a43a-28f4fc1e494f"
      },
      "source": [
        "import pandas as pd\n",
        "import matplotlib.pyplot as plt\n",
        "import numpy as np\n",
        "\n",
        "df = pd.read_csv('vgsales.csv')\n",
        "df.head()"
      ],
      "execution_count": 5,
      "outputs": [
        {
          "output_type": "execute_result",
          "data": {
            "text/html": [
              "<div>\n",
              "<style scoped>\n",
              "    .dataframe tbody tr th:only-of-type {\n",
              "        vertical-align: middle;\n",
              "    }\n",
              "\n",
              "    .dataframe tbody tr th {\n",
              "        vertical-align: top;\n",
              "    }\n",
              "\n",
              "    .dataframe thead th {\n",
              "        text-align: right;\n",
              "    }\n",
              "</style>\n",
              "<table border=\"1\" class=\"dataframe\">\n",
              "  <thead>\n",
              "    <tr style=\"text-align: right;\">\n",
              "      <th></th>\n",
              "      <th>Rank</th>\n",
              "      <th>Name</th>\n",
              "      <th>Platform</th>\n",
              "      <th>Year</th>\n",
              "      <th>Genre</th>\n",
              "      <th>Publisher</th>\n",
              "      <th>NA_Sales</th>\n",
              "      <th>EU_Sales</th>\n",
              "      <th>JP_Sales</th>\n",
              "      <th>Other_Sales</th>\n",
              "      <th>Global_Sales</th>\n",
              "    </tr>\n",
              "  </thead>\n",
              "  <tbody>\n",
              "    <tr>\n",
              "      <th>0</th>\n",
              "      <td>1</td>\n",
              "      <td>Wii Sports</td>\n",
              "      <td>Wii</td>\n",
              "      <td>2006.0</td>\n",
              "      <td>Sports</td>\n",
              "      <td>Nintendo</td>\n",
              "      <td>41.49</td>\n",
              "      <td>29.02</td>\n",
              "      <td>3.77</td>\n",
              "      <td>8.46</td>\n",
              "      <td>82.74</td>\n",
              "    </tr>\n",
              "    <tr>\n",
              "      <th>1</th>\n",
              "      <td>2</td>\n",
              "      <td>Super Mario Bros.</td>\n",
              "      <td>NES</td>\n",
              "      <td>1985.0</td>\n",
              "      <td>Platform</td>\n",
              "      <td>Nintendo</td>\n",
              "      <td>29.08</td>\n",
              "      <td>3.58</td>\n",
              "      <td>6.81</td>\n",
              "      <td>0.77</td>\n",
              "      <td>40.24</td>\n",
              "    </tr>\n",
              "    <tr>\n",
              "      <th>2</th>\n",
              "      <td>3</td>\n",
              "      <td>Mario Kart Wii</td>\n",
              "      <td>Wii</td>\n",
              "      <td>2008.0</td>\n",
              "      <td>Racing</td>\n",
              "      <td>Nintendo</td>\n",
              "      <td>15.85</td>\n",
              "      <td>12.88</td>\n",
              "      <td>3.79</td>\n",
              "      <td>3.31</td>\n",
              "      <td>35.82</td>\n",
              "    </tr>\n",
              "    <tr>\n",
              "      <th>3</th>\n",
              "      <td>4</td>\n",
              "      <td>Wii Sports Resort</td>\n",
              "      <td>Wii</td>\n",
              "      <td>2009.0</td>\n",
              "      <td>Sports</td>\n",
              "      <td>Nintendo</td>\n",
              "      <td>15.75</td>\n",
              "      <td>11.01</td>\n",
              "      <td>3.28</td>\n",
              "      <td>2.96</td>\n",
              "      <td>33.00</td>\n",
              "    </tr>\n",
              "    <tr>\n",
              "      <th>4</th>\n",
              "      <td>5</td>\n",
              "      <td>Pokemon Red/Pokemon Blue</td>\n",
              "      <td>GB</td>\n",
              "      <td>1996.0</td>\n",
              "      <td>Role-Playing</td>\n",
              "      <td>Nintendo</td>\n",
              "      <td>11.27</td>\n",
              "      <td>8.89</td>\n",
              "      <td>10.22</td>\n",
              "      <td>1.00</td>\n",
              "      <td>31.37</td>\n",
              "    </tr>\n",
              "  </tbody>\n",
              "</table>\n",
              "</div>"
            ],
            "text/plain": [
              "   Rank                      Name Platform  ...  JP_Sales Other_Sales Global_Sales\n",
              "0     1                Wii Sports      Wii  ...      3.77        8.46        82.74\n",
              "1     2         Super Mario Bros.      NES  ...      6.81        0.77        40.24\n",
              "2     3            Mario Kart Wii      Wii  ...      3.79        3.31        35.82\n",
              "3     4         Wii Sports Resort      Wii  ...      3.28        2.96        33.00\n",
              "4     5  Pokemon Red/Pokemon Blue       GB  ...     10.22        1.00        31.37\n",
              "\n",
              "[5 rows x 11 columns]"
            ]
          },
          "metadata": {},
          "execution_count": 5
        }
      ]
    },
    {
      "cell_type": "markdown",
      "metadata": {
        "id": "x6fIVdGoC8vb"
      },
      "source": [
        "**Manipulasi Data dengan Grouping**"
      ]
    },
    {
      "cell_type": "code",
      "metadata": {
        "colab": {
          "base_uri": "https://localhost:8080/",
          "height": 455
        },
        "id": "qM__qVNEDJxc",
        "outputId": "c9f3c3ac-3acd-4c3a-b3a3-6a48bf0f84b9"
      },
      "source": [
        "df_genre = df.groupby('Genre')[['NA_Sales', 'EU_Sales', 'JP_Sales', 'Other_Sales']].mean()\n",
        "df_genre"
      ],
      "execution_count": 6,
      "outputs": [
        {
          "output_type": "execute_result",
          "data": {
            "text/html": [
              "<div>\n",
              "<style scoped>\n",
              "    .dataframe tbody tr th:only-of-type {\n",
              "        vertical-align: middle;\n",
              "    }\n",
              "\n",
              "    .dataframe tbody tr th {\n",
              "        vertical-align: top;\n",
              "    }\n",
              "\n",
              "    .dataframe thead th {\n",
              "        text-align: right;\n",
              "    }\n",
              "</style>\n",
              "<table border=\"1\" class=\"dataframe\">\n",
              "  <thead>\n",
              "    <tr style=\"text-align: right;\">\n",
              "      <th></th>\n",
              "      <th>NA_Sales</th>\n",
              "      <th>EU_Sales</th>\n",
              "      <th>JP_Sales</th>\n",
              "      <th>Other_Sales</th>\n",
              "    </tr>\n",
              "    <tr>\n",
              "      <th>Genre</th>\n",
              "      <th></th>\n",
              "      <th></th>\n",
              "      <th></th>\n",
              "      <th></th>\n",
              "    </tr>\n",
              "  </thead>\n",
              "  <tbody>\n",
              "    <tr>\n",
              "      <th>Action</th>\n",
              "      <td>0.264726</td>\n",
              "      <td>0.158323</td>\n",
              "      <td>0.048236</td>\n",
              "      <td>0.056508</td>\n",
              "    </tr>\n",
              "    <tr>\n",
              "      <th>Adventure</th>\n",
              "      <td>0.082271</td>\n",
              "      <td>0.049868</td>\n",
              "      <td>0.040490</td>\n",
              "      <td>0.013072</td>\n",
              "    </tr>\n",
              "    <tr>\n",
              "      <th>Fighting</th>\n",
              "      <td>0.263667</td>\n",
              "      <td>0.119481</td>\n",
              "      <td>0.103007</td>\n",
              "      <td>0.043255</td>\n",
              "    </tr>\n",
              "    <tr>\n",
              "      <th>Misc</th>\n",
              "      <td>0.235906</td>\n",
              "      <td>0.124198</td>\n",
              "      <td>0.061967</td>\n",
              "      <td>0.043312</td>\n",
              "    </tr>\n",
              "    <tr>\n",
              "      <th>Platform</th>\n",
              "      <td>0.504571</td>\n",
              "      <td>0.227573</td>\n",
              "      <td>0.147596</td>\n",
              "      <td>0.058228</td>\n",
              "    </tr>\n",
              "    <tr>\n",
              "      <th>Puzzle</th>\n",
              "      <td>0.212680</td>\n",
              "      <td>0.087251</td>\n",
              "      <td>0.098471</td>\n",
              "      <td>0.021564</td>\n",
              "    </tr>\n",
              "    <tr>\n",
              "      <th>Racing</th>\n",
              "      <td>0.287766</td>\n",
              "      <td>0.190865</td>\n",
              "      <td>0.045388</td>\n",
              "      <td>0.061865</td>\n",
              "    </tr>\n",
              "    <tr>\n",
              "      <th>Role-Playing</th>\n",
              "      <td>0.219946</td>\n",
              "      <td>0.126384</td>\n",
              "      <td>0.236767</td>\n",
              "      <td>0.040060</td>\n",
              "    </tr>\n",
              "    <tr>\n",
              "      <th>Shooter</th>\n",
              "      <td>0.444733</td>\n",
              "      <td>0.239137</td>\n",
              "      <td>0.029221</td>\n",
              "      <td>0.078389</td>\n",
              "    </tr>\n",
              "    <tr>\n",
              "      <th>Simulation</th>\n",
              "      <td>0.211430</td>\n",
              "      <td>0.130773</td>\n",
              "      <td>0.073472</td>\n",
              "      <td>0.036355</td>\n",
              "    </tr>\n",
              "    <tr>\n",
              "      <th>Sports</th>\n",
              "      <td>0.291283</td>\n",
              "      <td>0.160635</td>\n",
              "      <td>0.057702</td>\n",
              "      <td>0.057532</td>\n",
              "    </tr>\n",
              "    <tr>\n",
              "      <th>Strategy</th>\n",
              "      <td>0.100881</td>\n",
              "      <td>0.066579</td>\n",
              "      <td>0.072628</td>\n",
              "      <td>0.016681</td>\n",
              "    </tr>\n",
              "  </tbody>\n",
              "</table>\n",
              "</div>"
            ],
            "text/plain": [
              "              NA_Sales  EU_Sales  JP_Sales  Other_Sales\n",
              "Genre                                                  \n",
              "Action        0.264726  0.158323  0.048236     0.056508\n",
              "Adventure     0.082271  0.049868  0.040490     0.013072\n",
              "Fighting      0.263667  0.119481  0.103007     0.043255\n",
              "Misc          0.235906  0.124198  0.061967     0.043312\n",
              "Platform      0.504571  0.227573  0.147596     0.058228\n",
              "Puzzle        0.212680  0.087251  0.098471     0.021564\n",
              "Racing        0.287766  0.190865  0.045388     0.061865\n",
              "Role-Playing  0.219946  0.126384  0.236767     0.040060\n",
              "Shooter       0.444733  0.239137  0.029221     0.078389\n",
              "Simulation    0.211430  0.130773  0.073472     0.036355\n",
              "Sports        0.291283  0.160635  0.057702     0.057532\n",
              "Strategy      0.100881  0.066579  0.072628     0.016681"
            ]
          },
          "metadata": {},
          "execution_count": 6
        }
      ]
    },
    {
      "cell_type": "markdown",
      "metadata": {
        "id": "QzZJo0JHDQox"
      },
      "source": [
        "**Perbandingan Kuantitatif menggunakan Barplot**"
      ]
    },
    {
      "cell_type": "code",
      "metadata": {
        "colab": {
          "base_uri": "https://localhost:8080/",
          "height": 566
        },
        "id": "iHq61MguDVX0",
        "outputId": "b99d54d9-c055-4ea4-9e02-0aa3f4eaec6b"
      },
      "source": [
        "x = np.arange(4)\n",
        "\n",
        "#Persiapan komponen barplot\n",
        "width = 0.07\n",
        "fig, ax = plt.subplots(figsize=(16.5,8))\n",
        "colors = ['r', 'royalblue', 'mediumpurple', 'grey', 'orange', 'yellowgreen', 'pink', 'r', 'royalblue', 'mediumpurple', 'grey', 'orange']\n",
        "\n",
        "#Pembuatan barplot menggunakan for-loop\n",
        "for i, j in enumerate(df_genre.T.columns):\n",
        "  ax.bar(x+(width*i), df_genre.T[j], width=width, label=j, color=colors[i])\n",
        "\n",
        "#Custom barplot\n",
        "plt.style.use('ggplot')\n",
        "plt.xticks(x+0.35, labels=df_genre.T.index)\n",
        "plt.xlabel('Region Sales')\n",
        "plt.ylabel('Mean Sales')\n",
        "plt.legend(loc=(0.95,0.73), frameon=True)\n",
        "plt.title('Mean Sales Video Games by Genre', fontweight='bold')\n",
        "plt.show()"
      ],
      "execution_count": 7,
      "outputs": [
        {
          "output_type": "display_data",
          "data": {
            "image/png": "[encoded data removed]",
            "text/plain": [
              "<Figure size 1188x576 with 1 Axes>"
            ]
          },
          "metadata": {}
        }
      ]
    },
    {
      "cell_type": "markdown",
      "metadata": {
        "id": "r5pCWEAvD6SP"
      },
      "source": [
        "**Perbandingan Kuantitatif menggunakan Stack-Barplot**"
      ]
    },
    {
      "cell_type": "code",
      "metadata": {
        "colab": {
          "base_uri": "https://localhost:8080/",
          "height": 538
        },
        "id": "Yk9rTLttD-rO",
        "outputId": "c3cb9162-0b1a-430e-b94a-7c7c0728696b"
      },
      "source": [
        "#persiapan komponen\n",
        "x = df_genre.T.index\n",
        "width = 0.8\n",
        "y_bottom = 0\n",
        "\n",
        "#membuat figure\n",
        "plt.figure(figsize=(14.5,7.5))\n",
        "\n",
        "#membuat stack-barplot menggunakan for-loop\n",
        "for i, j in enumerate(df_genre.T.columns):\n",
        "  plt.bar(x, df_genre.T[j], width, label=j, bottom=y_bottom)\n",
        "  y_bottom += df_genre.T[j]\n",
        "\n",
        "#Custom barplot\n",
        "plt.style.use('ggplot')\n",
        "plt.xlabel('Region Sales')\n",
        "plt.ylabel('Mean Sales')\n",
        "plt.legend(loc=(0.947,0.71), frameon=True)\n",
        "plt.title('Mean Sales Video Games by Genre', fontweight='bold')\n",
        "plt.show()"
      ],
      "execution_count": 8,
      "outputs": [
        {
          "output_type": "display_data",
          "data": {
            "image/png": "[encoded data removed]",
            "text/plain": [
              "<Figure size 1044x540 with 1 Axes>"
            ]
          },
          "metadata": {}
        }
      ]
    }
  ]
}